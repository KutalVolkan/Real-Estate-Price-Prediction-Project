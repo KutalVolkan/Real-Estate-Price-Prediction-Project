{
 "cells": [
  {
   "cell_type": "markdown",
   "metadata": {},
   "source": [
    "# Data Science Regression Project: Predicting Apartment Prices in Germany\n"
   ]
  },
  {
   "cell_type": "code",
   "execution_count": 297,
   "metadata": {},
   "outputs": [],
   "source": [
    "from os import listdir\n",
    "import pandas as pd\n",
    "from matplotlib import pyplot as plt\n",
    "%matplotlib inline\n",
    "import matplotlib \n",
    "import re"
   ]
  },
  {
   "cell_type": "code",
   "execution_count": 298,
   "metadata": {},
   "outputs": [],
   "source": [
    "# finding json files in givin path \n",
    "def find_csv_filenames(path_to_dir, suffix=\".csv\" ):\n",
    "    filenames = listdir(path_to_dir)\n",
    "    return [filename for filename in filenames if filename.endswith(suffix)]"
   ]
  },
  {
   "cell_type": "code",
   "execution_count": 299,
   "metadata": {},
   "outputs": [],
   "source": [
    "def concatenate_path_csv_file():\n",
    "    path_with_csv_files = []\n",
    "    for csv_file in csv_files:\n",
    "        path_with_csv_files.append(path+csv_file)\n",
    "    return path_with_csv_files"
   ]
  },
  {
   "cell_type": "markdown",
   "metadata": {},
   "source": [
    "## Data Load: Load germany apartment data, to see features\n"
   ]
  },
  {
   "cell_type": "code",
   "execution_count": 300,
   "metadata": {},
   "outputs": [],
   "source": [
    "path = \"./apartment_data/\"\n",
    "csv_files = find_csv_filenames(path)\n",
    "df = pd.concat(map(pd.read_csv, concatenate_path_csv_file()), ignore_index=True)"
   ]
  },
  {
   "cell_type": "code",
   "execution_count": 301,
   "metadata": {},
   "outputs": [
    {
     "data": {
      "text/html": [
       "<div>\n",
       "<style scoped>\n",
       "    .dataframe tbody tr th:only-of-type {\n",
       "        vertical-align: middle;\n",
       "    }\n",
       "\n",
       "    .dataframe tbody tr th {\n",
       "        vertical-align: top;\n",
       "    }\n",
       "\n",
       "    .dataframe thead th {\n",
       "        text-align: right;\n",
       "    }\n",
       "</style>\n",
       "<table border=\"1\" class=\"dataframe\">\n",
       "  <thead>\n",
       "    <tr style=\"text-align: right;\">\n",
       "      <th></th>\n",
       "      <th>sales_price</th>\n",
       "      <th>livable_surface</th>\n",
       "      <th>number_of_rooms</th>\n",
       "      <th>location</th>\n",
       "    </tr>\n",
       "  </thead>\n",
       "  <tbody>\n",
       "    <tr>\n",
       "      <th>0</th>\n",
       "      <td>335,000€</td>\n",
       "      <td>73m²</td>\n",
       "      <td>5</td>\n",
       "      <td>-Perl</td>\n",
       "    </tr>\n",
       "    <tr>\n",
       "      <th>1</th>\n",
       "      <td>Priceonrequest</td>\n",
       "      <td>112m²</td>\n",
       "      <td>6</td>\n",
       "      <td>EchternacherbrückTheexactadressisnotindicated</td>\n",
       "    </tr>\n",
       "    <tr>\n",
       "      <th>2</th>\n",
       "      <td>128,000€</td>\n",
       "      <td>134m²</td>\n",
       "      <td>4</td>\n",
       "      <td>KölnerStraße-Burscheid</td>\n",
       "    </tr>\n",
       "    <tr>\n",
       "      <th>3</th>\n",
       "      <td>95,000€</td>\n",
       "      <td>86m²</td>\n",
       "      <td>3</td>\n",
       "      <td>Goethestraße-Remscheid</td>\n",
       "    </tr>\n",
       "    <tr>\n",
       "      <th>4</th>\n",
       "      <td>120,000€</td>\n",
       "      <td>66m²</td>\n",
       "      <td>3</td>\n",
       "      <td>Friedrich-Schiller-Straße-Ummendorf</td>\n",
       "    </tr>\n",
       "  </tbody>\n",
       "</table>\n",
       "</div>"
      ],
      "text/plain": [
       "      sales_price livable_surface number_of_rooms  \\\n",
       "0        335,000€            73m²               5   \n",
       "1  Priceonrequest           112m²               6   \n",
       "2        128,000€           134m²               4   \n",
       "3         95,000€            86m²               3   \n",
       "4        120,000€            66m²               3   \n",
       "\n",
       "                                        location  \n",
       "0                                          -Perl  \n",
       "1  EchternacherbrückTheexactadressisnotindicated  \n",
       "2                         KölnerStraße-Burscheid  \n",
       "3                         Goethestraße-Remscheid  \n",
       "4            Friedrich-Schiller-Straße-Ummendorf  "
      ]
     },
     "execution_count": 301,
     "metadata": {},
     "output_type": "execute_result"
    }
   ],
   "source": [
    "df.head(5)"
   ]
  },
  {
   "cell_type": "code",
   "execution_count": 302,
   "metadata": {},
   "outputs": [
    {
     "data": {
      "text/plain": [
       "(831, 4)"
      ]
     },
     "execution_count": 302,
     "metadata": {},
     "output_type": "execute_result"
    }
   ],
   "source": [
    "# we have 831 apartmens and 4 features\n",
    "df.shape"
   ]
  },
  {
   "cell_type": "code",
   "execution_count": 303,
   "metadata": {},
   "outputs": [
    {
     "data": {
      "text/plain": [
       "Index(['sales_price', 'livable_surface', 'number_of_rooms', 'location'], dtype='object')"
      ]
     },
     "execution_count": 303,
     "metadata": {},
     "output_type": "execute_result"
    }
   ],
   "source": [
    "# sales_price is the dependent feature, the rest are independet. We try to predict the sales_price\n",
    "df.columns"
   ]
  },
  {
   "cell_type": "code",
   "execution_count": 304,
   "metadata": {
    "scrolled": false
   },
   "outputs": [
    {
     "data": {
      "text/plain": [
       "array(['-Perl', 'EchternacherbrückTheexactadressisnotindicated',\n",
       "       'KölnerStraße-Burscheid', 'Goethestraße-Remscheid',\n",
       "       'Friedrich-Schiller-Straße-Ummendorf',\n",
       "       'UnterdemKönigsberg-BadPyrmont', 'ImTonloch-Ahnsen',\n",
       "       'Krokusweg-Dortmund', 'AmWald-Stolberg', 'Bertramstraße-Köln',\n",
       "       'Hauptstraße-Meckenbeuren', '-Trier', 'PlackenEllern-Belm',\n",
       "       'Usingerstraße-Köln', 'JülicherStraße-Eschweiler',\n",
       "       'Taunusstraße-Kerpen', 'Hansengasse-Geislingen',\n",
       "       'ObererWeg-Tübingen', 'Hutbergstraße-Nürnberg',\n",
       "       '-Echternacherbrück', 'WeißenburgerStraße-Ludwigshafen',\n",
       "       'Yorckstr.-Ludwigshafen', 'Immenweg-Berlin',\n",
       "       'Jugendheimstraße-Dormagen', 'Harkortstraße-Castrop-Rauxel',\n",
       "       'Bahnhofstraße-Castrop-Rauxel', 'Siemensstraße-Bamberg',\n",
       "       'BitburgerStrasse-Echternacherbrück', 'Wilhelmstraße-Nürnberg',\n",
       "       'Kazmairstraße-München', 'SchmidenerStraße-Stuttgart',\n",
       "       'Hauptstraße-Hofgeismar', 'Saturnstraße-Bielefeld',\n",
       "       'Zugspitzstraße-Lauben', 'AmKroog-Stapelfeld',\n",
       "       'Steinwarder-Heiligenhafen', 'Schützenstraße-Neumünster',\n",
       "       'Kellenkrug-Föhrden-Barl', 'Rosengrund-Büsum',\n",
       "       'Kuftenstraße-Langenau', 'Tattersallstraße-Mannheim',\n",
       "       'Schirmerstraße-Karlsruhe', 'Güterstraße-Trier',\n",
       "       'Adolfinenstraße-Hannover', 'Kapellenstraße-Langenhagen',\n",
       "       'Hostmannstraße-Ilsede', 'Brückenstraße-Arnsberg',\n",
       "       'EssenerStraße-Gelsenkirchen', 'DinslakenerLandstraße-Wesel',\n",
       "       'TannerStraße-Braunlage', 'St.-Bruno-Straße-Bergrheinfeld',\n",
       "       'Ulmenweg-Peiting', 'Burgstraße-Frankfurt',\n",
       "       'AmEuropakanal-Erlangen', 'KurzeneckerStraße-Elmstein',\n",
       "       'Hauptstraße-Wolkenstein', 'Nerotal-Wiesbaden',\n",
       "       'Ottostraße-Duisburg', 'Thorwaldsenanlage-Wiesbaden',\n",
       "       'Zeißstraße-Lemgo', 'ZumIhnedieck-Dortmund',\n",
       "       'Schönaustraße-Landshut', 'Talstraße-Donaueschingen',\n",
       "       'NellmersbacherStraße-Leutenbach', 'Naumannstraße-Leipzig',\n",
       "       'Reinholdstraße-Minden', 'Glacisstraße-Neu-Ulm',\n",
       "       'Kronprinzenstraße-Pirmasens', 'RudolstädterStraße-BadBlankenburg',\n",
       "       'Fritz-Ulrich-Straße-Heilbronn', 'Lauterbachweg-Heilbronn',\n",
       "       'AnderWitschke-Halle', '-Merzig',\n",
       "       'Alexander-Alesius-Straße-Leipzig', 'AnderMainbrücke-Hanau',\n",
       "       'Godefriedstraße-Dortmund', 'Horstmarerstraße-Dortmund',\n",
       "       'Nikolaistraße-Duisburg', 'Knospenstraße-München',\n",
       "       'Westendstraße-München', 'IngolstädterStraße-Kipfenberg',\n",
       "       'Katharinenstraße-Duisburg', '-Bitburg',\n",
       "       'BerlinerStraße-Heidelberg', 'Hermann-Löns-Weg-Heidelberg',\n",
       "       'Saarlandstraße-Lüdenscheid', 'Klobesstraße-Dortmund',\n",
       "       'Gabelsbergerstraße-Nürnberg', 'Lerchenstraße-Nürtingen',\n",
       "       'BeiderLohmühle-Obersulm', 'AmGutleuthaus-Oppenheim',\n",
       "       'Minervastraße-Hagen', 'FeldhauserStraße-Gelsenkirchen',\n",
       "       'Weidenstraße-Saarbrücken', 'HolzerStraße-Quierschied',\n",
       "       'ImBungert-BergischGladbach', 'Scheideweg-Gelsenkirchen',\n",
       "       'StockumerStraße-Hamm', 'Judenhof-Altenkunstadt',\n",
       "       'UntereTorstraße-Feuchtwangen', '-Neuwied',\n",
       "       'Sperlingweg-Vöhringen', 'Kirchstraße-BadLiebenzell',\n",
       "       'LangeWanne-Salzgitter', 'Okerstraße-Salzgitter',\n",
       "       'Rabenweg-Sangerhausen', 'August-Bebel-Straße-Plauen',\n",
       "       'Amtsstraße-Meerane', 'Düsterstraße-Dortmund',\n",
       "       'Schloßteichstraße-Chemnitz', 'Bahnhofstraße-Herten',\n",
       "       'Reinhard-Uhlig-Straße-Chemnitz', 'Weinbergstraße-Dresden',\n",
       "       'Julius-Leber-Straße-Oerlinghausen',\n",
       "       'ReichenbacherStraße-Oerlinghausen', 'Wupperstraße-Leverkusen',\n",
       "       'ReiningerStraße-Stemwede', 'Hafenstraße-Datteln',\n",
       "       'Karlstraße-Hattingen', 'Dillenweg-Lengede',\n",
       "       'Martinstraße-Darmstadt', 'DanzigerStraße-Trebur',\n",
       "       'Simsonweg-Berlin', 'AmFranzosengraben-Wernberg-Köblitz',\n",
       "       'PlauerStraße-Güstrow', 'MünchnerAllee-BadReichenhall',\n",
       "       'Schubertstraße-Olching', 'AnderHerschelstraße-Ingolstadt',\n",
       "       'AmWehberg-DorfMecklenburg', 'Rothlindenstraße-Schwandorf',\n",
       "       'Haidweg-Birkenfeld', 'Lattweg-Sandhausen',\n",
       "       'OttmarsheimerStraße-Stuttgart', 'Papiermühlenweg-Greiz',\n",
       "       'Murgtalstraße-Rastatt', 'GartroperStraße-Duisburg',\n",
       "       'FeudenheimerGrün-Mannheim', 'KäfertalerStraße-Mannheim',\n",
       "       'Adalbert-Stifter-Straße-Karlsruhe', 'Bohlstraße-Nehren',\n",
       "       'Hohenzollernstraße-SchwäbischGmünd',\n",
       "       'Heinrich-Fries-Straße-Oedheim', 'Langemarkstraße-Oberhausen',\n",
       "       'DresdenerStraße-Geringswalde', 'GroßgartacherStraße-Nordheim',\n",
       "       'WesterholterStraße-Recklinghausen', 'BurloerWeg-Bocholt',\n",
       "       'Kornweg-Bochum', 'Schmiedestraße-Kierspe', 'Homarstraße-Köln',\n",
       "       'Industriestraße-Waltenhofen', 'Kantstraße-Neustadt',\n",
       "       'GöttingerChaussee-Hannover', 'Schulstraße-Oderwitz',\n",
       "       'RadolfzellerStraße-München', 'Goethestraße-Germering',\n",
       "       'Ahornstraße-Kerpen', '-Mettlach',\n",
       "       'WeißenburgerStraße-Gelsenkirchen',\n",
       "       'BelforterStraße-Gelsenkirchen', 'SiedlungderJugend-Auerbach',\n",
       "       'Markt-Lengefeld', 'BerlinerStraße-Mainz',\n",
       "       'KölnerStraße-Jünkerath', 'Leonardo-da-Vinci-Allee-Frankfurt',\n",
       "       'Friedrich-Wolf-Straße-Saalburg-Ebersdorf',\n",
       "       'Mottelerstraße-Leipzig', 'Friedrichstraße-Pirmasens',\n",
       "       'Wilseckerstraße-Kyllburg', 'AldenraderStraße-Duisburg',\n",
       "       'Elsa-Brandström-Straße-Marl', 'Sternstraße-Gelsenkirchen',\n",
       "       'Schulstraße-Velbert', 'Wilhelmstraße-Krefeld', 'ZumSiek-Faßberg',\n",
       "       'HainholzerDamm-Elmshorn', 'Ankerstraße-Bremerhaven',\n",
       "       'StargarderStraße-Oldenburg', 'Mauerstr.-Mannheim',\n",
       "       'Bergstraße-Magdeburg', 'Karlstraße-Niederkrüchten',\n",
       "       'Schulstraße-Hardert', 'Europaring-Wilhelmshaven',\n",
       "       'Parkallee-Bremen', 'Gartenäckerweg-Nürnberg', 'AmRathaus-Küps',\n",
       "       'WerdauerStraße-Zwickau', 'Resedastraße-Wesel',\n",
       "       'ImFlachsgarten-BadLaasphe', 'HelmstedterStraße-Hannover',\n",
       "       'LimbacherStraße-Chemnitz', 'Wagnerstraße-Oyten',\n",
       "       'AlteGladbacherStraße-Krefeld', 'Königstraße-Duisburg',\n",
       "       'AmZiegelkamp-Duisburg', 'Goethestraße-Willich',\n",
       "       'Stadtbadstraße-Thalheim', 'SchleizerStraße-Remptendorf',\n",
       "       'AltePoststraße-Wilhelmsthal', 'Liechtensteinstraße-Leipzig',\n",
       "       'Otto-Hahn-Straße-Stockstadt', 'Brockskamp-Gelsenkirchen',\n",
       "       'InderSchwarzerde-Limburg', 'ElsterbergerWeg-Elsterberg',\n",
       "       'Schwalbenrainweg-Aschaffenburg', 'Sternenburgstraße-Schwelm',\n",
       "       'AmLangenberg-Ingelheim', 'Industriestraße-Backnang',\n",
       "       'Rappenberghalde-Tübingen', 'Karl-Schmidt-Straße-Magdeburg',\n",
       "       'Gilsatalstraße-Neuental', 'Rathausstraße-Kerpen',\n",
       "       'Lindenbrink-Ronnenberg', 'Glasbergstraße-Mömbris',\n",
       "       'ButjadingerStraße-Bremen', 'Taunusblick-Lahnstein',\n",
       "       'GrünerWeg-Oelde', 'AmSilo-Leipzig', 'PereserStraße-Groitzsch',\n",
       "       'AmSonnenhang-Leverkusen', 'Schützenhofstraße-Jever',\n",
       "       'Rückertstraße-Frankfurt', 'Stöckelstraße-Leipzig',\n",
       "       'Zeißigwaldstraße-Chemnitz', 'Eichenweg-Grevenbroich',\n",
       "       'Hubertusweg-Nettetal', 'Lochnerstraße-Ratingen',\n",
       "       'HardenbergerStraße-Velbert', 'Buchenhöhe-Kerpen',\n",
       "       'Dieselstraße-Krefeld', 'Mühlstraße-Mücheln',\n",
       "       'AmSteinberg-Mönchengladbach', 'Barthstraße-BadBerleburg',\n",
       "       'Margaretenstraße-Wilhelmshaven', 'Gökerstr.-Wilhelmshaven',\n",
       "       'ObereGrundstraße-St.Andreasberg',\n",
       "       'Jakob-Lengfelder-Straße-BadHomburg',\n",
       "       'Landgrafenstraße-BadHomburg', 'Wredestraße-Nürnberg',\n",
       "       'Bleichstraße-Ludwigshafen', 'Achtstraße-Echternacherbrück',\n",
       "       'UnnaerStraße-Werl', 'KäferhainerStraße-Groitzsch',\n",
       "       'Brahmsstraße-Meckenheim', 'Provinzialstraße-Dortmund',\n",
       "       'Tannenwaldweg-BadHomburg', 'ObereHilsstraße-Delligsen',\n",
       "       'BaltischerWeg-Dortmund', 'Wilhelm-Kunze-Ring-Salzgitter',\n",
       "       'Holländerstraße-Berlin', 'Helwingerrodestraße-Hannover',\n",
       "       'Westbergstraße-Crimmitschau', 'Oswald-Wiersich-Straße-Neustadt',\n",
       "       'Struthbachweg-Kassel', 'Eisenbahnstraße-Leipzig',\n",
       "       'Sachsenplatz-Gera', 'Nestmannstraße-Gera',\n",
       "       'Vogelreichsweg-BadPyrmont', 'Ringstraße-BadSachsa',\n",
       "       'Martin-Luther-Straße-Remscheid', 'Overbruckstraße-Duisburg',\n",
       "       'Potthoffstraße-Schwelm', 'Hauptstraße-Göllheim',\n",
       "       'SulingerStraße-Bruchhausen-Vilsen', '-Saarlouis', '-Schweich',\n",
       "       'MunkmarscherChaussee-Sylt', 'Glück-Auf-Straße-Dorsten',\n",
       "       'Falkstraße-Frankfurt', 'Riedweg-Meckenbeuren',\n",
       "       'PapenhuderStraße-Hamburg', 'Ellerbruchstraße-Dorsten',\n",
       "       'Meranierring-Bayreuth', 'Grillostraße-Gelsenkirchen',\n",
       "       'Ziegeleistraße-Pottenstein', 'Dahlienweg-Bindlach', '-Dillingen',\n",
       "       'Friedrich-Ebert-Straße-Duisburg', 'Aue-Wuppertal',\n",
       "       'Flaßheide-Hamburg', 'Brunnenstraße-Mainz',\n",
       "       'NordhauserStraße-Berlin', 'WehringhauserStraße-Hagen',\n",
       "       'AmSchiffberg-Hehlen', 'Heinrich-Sauter-Weg-BadLiebenzell',\n",
       "       'Leonhardtstraße-Chemnitz', 'StaufnerStraße-Lindenberg',\n",
       "       'HolsteinerStraße-Schacht-Audorf',\n",
       "       'Richard-Schirrmann-Straße-Mainz',\n",
       "       'Hohenzollenstraße-Radevormwald', 'AmGonsenheimerSpieß-Mainz',\n",
       "       'Olderstiege-BadBentheim', 'ImGemerstal-Rodalben', '-Kanzem',\n",
       "       'Roderbruchstraße-Hannover', 'Stauderstraße-Essen',\n",
       "       'ImBrünneleacker-Umkirch', 'Elbestraße-Bremerhaven',\n",
       "       'HeidelbergerStraße-Darmstadt', 'Schützenstraße-Berlin',\n",
       "       'Karl-Ferlemann-Straße-Leipzig', 'Sonnenwall-Duisburg',\n",
       "       'Prinzenstraße-Duisburg', 'WismarerStraße-Rotenburg',\n",
       "       'Rückertstraße-Plauen', 'StettinerStraße-Schüttorf',\n",
       "       'Nordstraße-Gera', 'Boyersweg-Lotte',\n",
       "       'Gerhart-Hauptmann-Ring-Frankfurt', 'FrankfurterStraße-BadVilbel',\n",
       "       'RuppinerChaussee-Berlin', 'AmHang-Scharbeutz',\n",
       "       'St.-Tönnis-Straße-Köln',\n",
       "       'Rudolf-Diesel-Straße-Linkenheim-Hochstetten',\n",
       "       'FranzensbaderStraße-Berlin', 'Schölerpad-Essen',\n",
       "       'Schulberg-Lengede', 'Steige-Stadtlauringen',\n",
       "       'Theodor-Schäfer-Straße-Husum', 'AlteReichenbacherStraße-Oelsnitz',\n",
       "       'GroßeAllee-Bocholt', 'Bahnhofstraße-Bönen',\n",
       "       'Fasanenstraße-Helmstedt', 'Havelstraße-Darmstadt',\n",
       "       'Kerckhoffstraße-Essen', 'Wolbeckstraße-Essen',\n",
       "       'Brückenstraße-Rödental', 'Rilkestraße-Dormagen',\n",
       "       'Dimpfelstraße-Leipzig', 'LütznerStraße-Leipzig',\n",
       "       'Jahnstraße-Burgau', 'Klausenerstraße-Leipzig',\n",
       "       'NombericherStraße-Duisburg', 'Alleestraße-Duisburg',\n",
       "       'Bahnhofstraße-Pößneck', 'Rochlitzstraße-Leipzig',\n",
       "       'Blücherstraße-Leipzig', 'Schülerstraße-Gera',\n",
       "       'Engelbertstraße-Essen', 'SaarnerStraße-Duisburg',\n",
       "       'Eigenstraße-Duisburg', 'ImGründchen-Ober-Ramstadt',\n",
       "       'CrangerStraße-Gelsenkirchen', '-Losheim', 'Leuwstraße-Stolberg',\n",
       "       'Halskestraße-Remscheid', 'AhrenerFeld-Mönchengladbach',\n",
       "       'Gärtnergasse-Nieder-Olm', 'KeilbeckerStraße-Radevormwald',\n",
       "       'KleineWallstraße-Neustadt-Glewe', 'MagdeburgerAllee-Erfurt',\n",
       "       'PolsumerStraße-Gelsenkirchen', 'Freiheitsweg-Berlin',\n",
       "       'Bahnhofstraße-Floß', 'Hirschengasse-Saalfeld',\n",
       "       'Tunnelstraße-Berlin', 'Hainweg-Weiterstadt',\n",
       "       'Ortsstraße-SaalfelderHöhe', 'AufdemBrinke-Lügde',\n",
       "       'Westfalenplatz-Lotte', '-Tawern', '-Palzem', '-Langsur',\n",
       "       'KemptenerStraße-Senden', '-Speicher', '-Klüsserath',\n",
       "       'Obermarkstraße-Dortmund', 'Rotbachstraße8-Trier', '-Trittenheim',\n",
       "       'Asamstraße-Ingolstadt', '-Wallerfangen', 'Eulenstraße-Rohrdorf',\n",
       "       '-Prümzurlay', 'Freiherr-von-Stein-Straße-Regensburg',\n",
       "       'OlewigerStraße140a,54295Trier-Trier', 'OlewigerStraße140a-Trier',\n",
       "       '-Saarbrücken', '-Zerf', 'Sperberstraße-Mönchengladbach',\n",
       "       'Holsthumerstr.-Wolsfeld', 'Holsthumerstr-Wolsfeld', '-Konz',\n",
       "       '-Irrel', 'AmSandkamp-Reinbek',\n",
       "       'NeuwiedTheexactadressisnotindicated', '-Pluwig',\n",
       "       'Bliespromenade5-Neunkirchen', '-Pirmasens',\n",
       "       'Hammarskjöldring-Frankfurt', '-Saarburg', '-Neuss', '-Berlin',\n",
       "       '-Kenn', '-Trassem', 'Langenscheidtstraße-Berlin',\n",
       "       '-Friedrichsthal', '-Kirf', '-Celle', '-Elsdorf', '-Nittel',\n",
       "       '-Wadgassen', '-Regen', '-St.Wendel', 'Europa-Allee11-Frankfurt',\n",
       "       '-Leiwen', '-Viernheim', '-Quierschied', '-Neuerburg',\n",
       "       '-Überherrn', '-Pellingen', 'Lambertistraße1-Trier', '-Schmelz',\n",
       "       '-Lebach', 'ImScheuerngarten-Bollendorf', '-Longuich', '-Sulzbach',\n",
       "       '-Tholey', 'Härtenbühlstraße-Beuren', '-Freudenburg',\n",
       "       'Beethovenstraße-WeilderStadt', '-Beckingen',\n",
       "       'Erzgießereistraße-München', '-Neunkirchen', '-Eppelborn',\n",
       "       '-Weitersburg', '-Rüsselsheim', 'AndenReepen-Elbe', '-Wadern',\n",
       "       '-Völklingen', '-Heusweiler', 'Sauerländig-Haßfurt',\n",
       "       'Schaberfeld-Solingen', '-Hannover', '-Blieskastel',\n",
       "       'Westerbergstraße-Moosburg', '-Wiesbaden', '-Regensburg',\n",
       "       'Burgstraße6-Bollendorf', '-Oberhausen',\n",
       "       'Bürgermeister-Kutterer-Str.-Ludwigshafen', '-Mehring',\n",
       "       '-Zweibrücken', 'Winterbergstraße21A-Saarbrücken',\n",
       "       '-Kleinblittersdorf', '-Weiskirchen', '-Gerolstein',\n",
       "       'Bräuanger-Nandlstadt', '-Garbsen', '-Föhren',\n",
       "       'Görresstraße-Berlin', 'Seydelstraße-Berlin', '-Riegelsberg',\n",
       "       '-Gießen', '-Offenbach', '-Rehlingen-Siersburg', '-Langen',\n",
       "       'Beckerstraße-Chemnitz', '-Raunheim', 'Lutherstraße-Chemnitz',\n",
       "       'HildesheimerStraße-Dortmund', 'Südstraße-Höxter',\n",
       "       'Reilstraße-Halle', 'Felsenstraße-Halle',\n",
       "       'ZehdenickerStraße-Berlin'], dtype=object)"
      ]
     },
     "execution_count": 304,
     "metadata": {},
     "output_type": "execute_result"
    }
   ],
   "source": [
    "# unique method is used to get an overview of unique elements in specific index.\n",
    "df['location'].unique()"
   ]
  },
  {
   "cell_type": "code",
   "execution_count": 305,
   "metadata": {},
   "outputs": [],
   "source": [
    "# removing streets name from location\n",
    "df['location'] = df['location'].apply(lambda x: x.split('-')[-1])"
   ]
  },
  {
   "cell_type": "code",
   "execution_count": 306,
   "metadata": {},
   "outputs": [
    {
     "data": {
      "text/html": [
       "<div>\n",
       "<style scoped>\n",
       "    .dataframe tbody tr th:only-of-type {\n",
       "        vertical-align: middle;\n",
       "    }\n",
       "\n",
       "    .dataframe tbody tr th {\n",
       "        vertical-align: top;\n",
       "    }\n",
       "\n",
       "    .dataframe thead th {\n",
       "        text-align: right;\n",
       "    }\n",
       "</style>\n",
       "<table border=\"1\" class=\"dataframe\">\n",
       "  <thead>\n",
       "    <tr style=\"text-align: right;\">\n",
       "      <th></th>\n",
       "      <th>sales_price</th>\n",
       "      <th>livable_surface</th>\n",
       "      <th>number_of_rooms</th>\n",
       "      <th>location</th>\n",
       "    </tr>\n",
       "  </thead>\n",
       "  <tbody>\n",
       "    <tr>\n",
       "      <th>0</th>\n",
       "      <td>335,000€</td>\n",
       "      <td>73m²</td>\n",
       "      <td>5</td>\n",
       "      <td>Perl</td>\n",
       "    </tr>\n",
       "    <tr>\n",
       "      <th>1</th>\n",
       "      <td>Priceonrequest</td>\n",
       "      <td>112m²</td>\n",
       "      <td>6</td>\n",
       "      <td>EchternacherbrückTheexactadressisnotindicated</td>\n",
       "    </tr>\n",
       "    <tr>\n",
       "      <th>2</th>\n",
       "      <td>128,000€</td>\n",
       "      <td>134m²</td>\n",
       "      <td>4</td>\n",
       "      <td>Burscheid</td>\n",
       "    </tr>\n",
       "    <tr>\n",
       "      <th>3</th>\n",
       "      <td>95,000€</td>\n",
       "      <td>86m²</td>\n",
       "      <td>3</td>\n",
       "      <td>Remscheid</td>\n",
       "    </tr>\n",
       "    <tr>\n",
       "      <th>4</th>\n",
       "      <td>120,000€</td>\n",
       "      <td>66m²</td>\n",
       "      <td>3</td>\n",
       "      <td>Ummendorf</td>\n",
       "    </tr>\n",
       "  </tbody>\n",
       "</table>\n",
       "</div>"
      ],
      "text/plain": [
       "      sales_price livable_surface number_of_rooms  \\\n",
       "0        335,000€            73m²               5   \n",
       "1  Priceonrequest           112m²               6   \n",
       "2        128,000€           134m²               4   \n",
       "3         95,000€            86m²               3   \n",
       "4        120,000€            66m²               3   \n",
       "\n",
       "                                        location  \n",
       "0                                           Perl  \n",
       "1  EchternacherbrückTheexactadressisnotindicated  \n",
       "2                                      Burscheid  \n",
       "3                                      Remscheid  \n",
       "4                                      Ummendorf  "
      ]
     },
     "execution_count": 306,
     "metadata": {},
     "output_type": "execute_result"
    }
   ],
   "source": [
    "df.head()"
   ]
  },
  {
   "cell_type": "code",
   "execution_count": 307,
   "metadata": {
    "scrolled": true
   },
   "outputs": [
    {
     "data": {
      "text/plain": [
       "Trier             51\n",
       "Duisburg          38\n",
       "Berlin            30\n",
       "Saarbrücken       22\n",
       "Mettlach          21\n",
       "                  ..\n",
       "Auerbach           1\n",
       "Haßfurt            1\n",
       "SaalfelderHöhe     1\n",
       "Thalheim           1\n",
       "Eppelborn          1\n",
       "Name: location, Length: 295, dtype: int64"
      ]
     },
     "execution_count": 307,
     "metadata": {},
     "output_type": "execute_result"
    }
   ],
   "source": [
    "# first location is the most frequently-occurring location. \n",
    "df['location'].value_counts()"
   ]
  },
  {
   "cell_type": "markdown",
   "metadata": {},
   "source": [
    "## Drop features that are not required to build our model"
   ]
  },
  {
   "cell_type": "code",
   "execution_count": 308,
   "metadata": {},
   "outputs": [
    {
     "data": {
      "text/plain": [
       "(831, 3)"
      ]
     },
     "execution_count": 308,
     "metadata": {},
     "output_type": "execute_result"
    }
   ],
   "source": [
    "# we will work also with location to show how to handle categorical data\n",
    "df_draft = df.drop(['location'],axis='columns')\n",
    "df_draft.shape"
   ]
  },
  {
   "cell_type": "markdown",
   "metadata": {},
   "source": [
    "## Handle missing data if its NaN. "
   ]
  },
  {
   "cell_type": "code",
   "execution_count": 309,
   "metadata": {},
   "outputs": [
    {
     "data": {
      "text/plain": [
       "sales_price        0\n",
       "livable_surface    0\n",
       "number_of_rooms    0\n",
       "location           0\n",
       "dtype: int64"
      ]
     },
     "execution_count": 309,
     "metadata": {},
     "output_type": "execute_result"
    }
   ],
   "source": [
    "'''\n",
    "We have no NaN values but something like: sales_price: Priceonrequest\n",
    "'''\n",
    "df = df.dropna()\n",
    "df.isnull().sum()"
   ]
  },
  {
   "cell_type": "code",
   "execution_count": 310,
   "metadata": {},
   "outputs": [],
   "source": [
    "index_sales_price = df.columns.get_loc('sales_price')\n",
    "price_pattern = r'([0-9]*(,|.)?[0-9]*(,|.)?[0-9]*\\€)'\n",
    "\n",
    "for row in range(0, len(df)-1):\n",
    "    try:\n",
    "        price = re.search(price_pattern, df.iat[row, index_sales_price]).group()\n",
    "    except Exception as e:\n",
    "        # drops sales_prices values which does not contains numerical value e.g. Priceonrequest\n",
    "        df = df.drop(df.index[[row]])\n",
    "    price = 'None'"
   ]
  },
  {
   "cell_type": "code",
   "execution_count": 311,
   "metadata": {},
   "outputs": [
    {
     "data": {
      "text/html": [
       "<div>\n",
       "<style scoped>\n",
       "    .dataframe tbody tr th:only-of-type {\n",
       "        vertical-align: middle;\n",
       "    }\n",
       "\n",
       "    .dataframe tbody tr th {\n",
       "        vertical-align: top;\n",
       "    }\n",
       "\n",
       "    .dataframe thead th {\n",
       "        text-align: right;\n",
       "    }\n",
       "</style>\n",
       "<table border=\"1\" class=\"dataframe\">\n",
       "  <thead>\n",
       "    <tr style=\"text-align: right;\">\n",
       "      <th></th>\n",
       "      <th>sales_price</th>\n",
       "      <th>livable_surface</th>\n",
       "      <th>number_of_rooms</th>\n",
       "      <th>location</th>\n",
       "    </tr>\n",
       "  </thead>\n",
       "  <tbody>\n",
       "    <tr>\n",
       "      <th>0</th>\n",
       "      <td>335,000€</td>\n",
       "      <td>73m²</td>\n",
       "      <td>5</td>\n",
       "      <td>Perl</td>\n",
       "    </tr>\n",
       "    <tr>\n",
       "      <th>2</th>\n",
       "      <td>128,000€</td>\n",
       "      <td>134m²</td>\n",
       "      <td>4</td>\n",
       "      <td>Burscheid</td>\n",
       "    </tr>\n",
       "    <tr>\n",
       "      <th>3</th>\n",
       "      <td>95,000€</td>\n",
       "      <td>86m²</td>\n",
       "      <td>3</td>\n",
       "      <td>Remscheid</td>\n",
       "    </tr>\n",
       "    <tr>\n",
       "      <th>4</th>\n",
       "      <td>120,000€</td>\n",
       "      <td>66m²</td>\n",
       "      <td>3</td>\n",
       "      <td>Ummendorf</td>\n",
       "    </tr>\n",
       "    <tr>\n",
       "      <th>5</th>\n",
       "      <td>68,000€</td>\n",
       "      <td>59m²</td>\n",
       "      <td>2</td>\n",
       "      <td>BadPyrmont</td>\n",
       "    </tr>\n",
       "  </tbody>\n",
       "</table>\n",
       "</div>"
      ],
      "text/plain": [
       "  sales_price livable_surface number_of_rooms    location\n",
       "0    335,000€            73m²               5        Perl\n",
       "2    128,000€           134m²               4   Burscheid\n",
       "3     95,000€            86m²               3   Remscheid\n",
       "4    120,000€            66m²               3   Ummendorf\n",
       "5     68,000€            59m²               2  BadPyrmont"
      ]
     },
     "execution_count": 311,
     "metadata": {},
     "output_type": "execute_result"
    }
   ],
   "source": [
    "df.head()"
   ]
  },
  {
   "cell_type": "code",
   "execution_count": 312,
   "metadata": {},
   "outputs": [
    {
     "data": {
      "text/html": [
       "<div>\n",
       "<style scoped>\n",
       "    .dataframe tbody tr th:only-of-type {\n",
       "        vertical-align: middle;\n",
       "    }\n",
       "\n",
       "    .dataframe tbody tr th {\n",
       "        vertical-align: top;\n",
       "    }\n",
       "\n",
       "    .dataframe thead th {\n",
       "        text-align: right;\n",
       "    }\n",
       "</style>\n",
       "<table border=\"1\" class=\"dataframe\">\n",
       "  <thead>\n",
       "    <tr style=\"text-align: right;\">\n",
       "      <th></th>\n",
       "      <th>sales_price</th>\n",
       "      <th>livable_surface</th>\n",
       "      <th>number_of_rooms</th>\n",
       "      <th>location</th>\n",
       "    </tr>\n",
       "  </thead>\n",
       "  <tbody>\n",
       "    <tr>\n",
       "      <th>0</th>\n",
       "      <td>335,000€</td>\n",
       "      <td>73m²</td>\n",
       "      <td>5</td>\n",
       "      <td>Perl</td>\n",
       "    </tr>\n",
       "    <tr>\n",
       "      <th>2</th>\n",
       "      <td>128,000€</td>\n",
       "      <td>134m²</td>\n",
       "      <td>4</td>\n",
       "      <td>Burscheid</td>\n",
       "    </tr>\n",
       "    <tr>\n",
       "      <th>3</th>\n",
       "      <td>95,000€</td>\n",
       "      <td>86m²</td>\n",
       "      <td>3</td>\n",
       "      <td>Remscheid</td>\n",
       "    </tr>\n",
       "    <tr>\n",
       "      <th>4</th>\n",
       "      <td>120,000€</td>\n",
       "      <td>66m²</td>\n",
       "      <td>3</td>\n",
       "      <td>Ummendorf</td>\n",
       "    </tr>\n",
       "    <tr>\n",
       "      <th>5</th>\n",
       "      <td>68,000€</td>\n",
       "      <td>59m²</td>\n",
       "      <td>2</td>\n",
       "      <td>BadPyrmont</td>\n",
       "    </tr>\n",
       "  </tbody>\n",
       "</table>\n",
       "</div>"
      ],
      "text/plain": [
       "  sales_price livable_surface number_of_rooms    location\n",
       "0    335,000€            73m²               5        Perl\n",
       "2    128,000€           134m²               4   Burscheid\n",
       "3     95,000€            86m²               3   Remscheid\n",
       "4    120,000€            66m²               3   Ummendorf\n",
       "5     68,000€            59m²               2  BadPyrmont"
      ]
     },
     "execution_count": 312,
     "metadata": {},
     "output_type": "execute_result"
    }
   ],
   "source": [
    "df.head()"
   ]
  },
  {
   "cell_type": "code",
   "execution_count": 313,
   "metadata": {},
   "outputs": [],
   "source": [
    "# remove € sign and ',' from entire sales_prices...\n",
    "df['sales_price'] = df['sales_price'].replace({r'\\€':''}, regex = True)\n",
    "df['sales_price'] = df['sales_price'].replace({r',':'.'}, regex = True)\n",
    "df['livable_surface'] = df['livable_surface'].replace({r'm\\u00b2':''}, regex = True)\n",
    "df.rename(columns={'sales_price': 'sales_price', 'livable_surface': 'livable_surface in m\\u00b2', 'number_of_rooms': 'number_of_rooms', 'location':'location'}, inplace=True)"
   ]
  },
  {
   "cell_type": "code",
   "execution_count": 295,
   "metadata": {},
   "outputs": [
    {
     "data": {
      "text/html": [
       "<div>\n",
       "<style scoped>\n",
       "    .dataframe tbody tr th:only-of-type {\n",
       "        vertical-align: middle;\n",
       "    }\n",
       "\n",
       "    .dataframe tbody tr th {\n",
       "        vertical-align: top;\n",
       "    }\n",
       "\n",
       "    .dataframe thead th {\n",
       "        text-align: right;\n",
       "    }\n",
       "</style>\n",
       "<table border=\"1\" class=\"dataframe\">\n",
       "  <thead>\n",
       "    <tr style=\"text-align: right;\">\n",
       "      <th></th>\n",
       "      <th>sales_price</th>\n",
       "      <th>livable_surface in m²</th>\n",
       "      <th>number_of_rooms</th>\n",
       "      <th>location</th>\n",
       "    </tr>\n",
       "  </thead>\n",
       "  <tbody>\n",
       "    <tr>\n",
       "      <th>0</th>\n",
       "      <td>335.000</td>\n",
       "      <td>73</td>\n",
       "      <td>5</td>\n",
       "      <td>Perl</td>\n",
       "    </tr>\n",
       "    <tr>\n",
       "      <th>2</th>\n",
       "      <td>128.000</td>\n",
       "      <td>134</td>\n",
       "      <td>4</td>\n",
       "      <td>Burscheid</td>\n",
       "    </tr>\n",
       "    <tr>\n",
       "      <th>3</th>\n",
       "      <td>95.000</td>\n",
       "      <td>86</td>\n",
       "      <td>3</td>\n",
       "      <td>Remscheid</td>\n",
       "    </tr>\n",
       "    <tr>\n",
       "      <th>4</th>\n",
       "      <td>120.000</td>\n",
       "      <td>66</td>\n",
       "      <td>3</td>\n",
       "      <td>Ummendorf</td>\n",
       "    </tr>\n",
       "    <tr>\n",
       "      <th>5</th>\n",
       "      <td>68.000</td>\n",
       "      <td>59</td>\n",
       "      <td>2</td>\n",
       "      <td>BadPyrmont</td>\n",
       "    </tr>\n",
       "  </tbody>\n",
       "</table>\n",
       "</div>"
      ],
      "text/plain": [
       "  sales_price livable_surface in m² number_of_rooms    location\n",
       "0     335.000                    73               5        Perl\n",
       "2     128.000                   134               4   Burscheid\n",
       "3      95.000                    86               3   Remscheid\n",
       "4     120.000                    66               3   Ummendorf\n",
       "5      68.000                    59               2  BadPyrmont"
      ]
     },
     "execution_count": 295,
     "metadata": {},
     "output_type": "execute_result"
    }
   ],
   "source": [
    "df.head()"
   ]
  }
 ],
 "metadata": {
  "kernelspec": {
   "display_name": "Python 3",
   "language": "python",
   "name": "python3"
  },
  "language_info": {
   "codemirror_mode": {
    "name": "ipython",
    "version": 3
   },
   "file_extension": ".py",
   "mimetype": "text/x-python",
   "name": "python",
   "nbconvert_exporter": "python",
   "pygments_lexer": "ipython3",
   "version": "3.7.6"
  }
 },
 "nbformat": 4,
 "nbformat_minor": 4
}

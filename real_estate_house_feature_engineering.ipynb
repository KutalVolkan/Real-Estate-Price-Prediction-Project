{
 "cells": [
  {
   "cell_type": "markdown",
   "metadata": {},
   "source": [
    "# Data Science Regression Project: Predicting Apartment Prices in Germany\n"
   ]
  },
  {
   "cell_type": "code",
   "execution_count": 1,
   "metadata": {},
   "outputs": [],
   "source": [
    "from os import listdir\n",
    "import pandas as pd\n",
    "from matplotlib import pyplot as plt\n",
    "%matplotlib inline\n",
    "import matplotlib \n",
    "import re"
   ]
  },
  {
   "cell_type": "code",
   "execution_count": 2,
   "metadata": {},
   "outputs": [],
   "source": [
    "# finding json files in givin path \n",
    "def find_csv_filenames(path_to_dir, suffix=\"export_dataframe.csv\" ):\n",
    "    filenames = listdir(path_to_dir)\n",
    "    return [filename for filename in filenames if filename.endswith(suffix)]"
   ]
  },
  {
   "cell_type": "code",
   "execution_count": 3,
   "metadata": {},
   "outputs": [],
   "source": [
    "path = r\"./house_data/\"\n",
    "csv_file = find_csv_filenames(path)[0]"
   ]
  },
  {
   "cell_type": "code",
   "execution_count": 4,
   "metadata": {},
   "outputs": [],
   "source": [
    "df = pd.read_csv(path+csv_file)  "
   ]
  },
  {
   "cell_type": "code",
   "execution_count": 5,
   "metadata": {},
   "outputs": [
    {
     "data": {
      "text/html": [
       "<div>\n",
       "<style scoped>\n",
       "    .dataframe tbody tr th:only-of-type {\n",
       "        vertical-align: middle;\n",
       "    }\n",
       "\n",
       "    .dataframe tbody tr th {\n",
       "        vertical-align: top;\n",
       "    }\n",
       "\n",
       "    .dataframe thead th {\n",
       "        text-align: right;\n",
       "    }\n",
       "</style>\n",
       "<table border=\"1\" class=\"dataframe\">\n",
       "  <thead>\n",
       "    <tr style=\"text-align: right;\">\n",
       "      <th></th>\n",
       "      <th>sales_price</th>\n",
       "      <th>livable_surface_in_m²</th>\n",
       "      <th>land_in_m²</th>\n",
       "      <th>number_of_rooms</th>\n",
       "      <th>location</th>\n",
       "    </tr>\n",
       "  </thead>\n",
       "  <tbody>\n",
       "    <tr>\n",
       "      <th>0</th>\n",
       "      <td>548.000</td>\n",
       "      <td>123</td>\n",
       "      <td>894</td>\n",
       "      <td>3</td>\n",
       "      <td>Merzkirchen</td>\n",
       "    </tr>\n",
       "    <tr>\n",
       "      <th>1</th>\n",
       "      <td>64.000</td>\n",
       "      <td>76</td>\n",
       "      <td>612</td>\n",
       "      <td>4</td>\n",
       "      <td>Salzwedel</td>\n",
       "    </tr>\n",
       "    <tr>\n",
       "      <th>2</th>\n",
       "      <td>485.000</td>\n",
       "      <td>180</td>\n",
       "      <td>71,600</td>\n",
       "      <td>6</td>\n",
       "      <td>Gusterath</td>\n",
       "    </tr>\n",
       "    <tr>\n",
       "      <th>3</th>\n",
       "      <td>47.000</td>\n",
       "      <td>96</td>\n",
       "      <td>117</td>\n",
       "      <td>4</td>\n",
       "      <td>Heusweiler</td>\n",
       "    </tr>\n",
       "    <tr>\n",
       "      <th>4</th>\n",
       "      <td>595.000</td>\n",
       "      <td>389</td>\n",
       "      <td>1,230</td>\n",
       "      <td>15</td>\n",
       "      <td>Zerf</td>\n",
       "    </tr>\n",
       "  </tbody>\n",
       "</table>\n",
       "</div>"
      ],
      "text/plain": [
       "  sales_price livable_surface_in_m² land_in_m²  number_of_rooms     location\n",
       "0     548.000                   123        894                3  Merzkirchen\n",
       "1      64.000                    76        612                4    Salzwedel\n",
       "2     485.000                   180     71,600                6    Gusterath\n",
       "3      47.000                    96        117                4   Heusweiler\n",
       "4     595.000                   389      1,230               15         Zerf"
      ]
     },
     "execution_count": 5,
     "metadata": {},
     "output_type": "execute_result"
    }
   ],
   "source": [
    "df.head()"
   ]
  },
  {
   "cell_type": "markdown",
   "metadata": {},
   "source": [
    "#  Feature Engineering\n",
    "<h6> Add new feature called price per square feet </h6>"
   ]
  },
  {
   "cell_type": "code",
   "execution_count": null,
   "metadata": {},
   "outputs": [],
   "source": []
  }
 ],
 "metadata": {
  "kernelspec": {
   "display_name": "Python 3",
   "language": "python",
   "name": "python3"
  },
  "language_info": {
   "codemirror_mode": {
    "name": "ipython",
    "version": 3
   },
   "file_extension": ".py",
   "mimetype": "text/x-python",
   "name": "python",
   "nbconvert_exporter": "python",
   "pygments_lexer": "ipython3",
   "version": "3.7.6"
  }
 },
 "nbformat": 4,
 "nbformat_minor": 4
}
